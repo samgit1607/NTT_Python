{
  "nbformat": 4,
  "nbformat_minor": 0,
  "metadata": {
    "colab": {
      "provenance": [],
      "include_colab_link": true
    },
    "kernelspec": {
      "name": "python3",
      "display_name": "Python 3"
    },
    "language_info": {
      "name": "python"
    }
  },
  "cells": [
    {
      "cell_type": "markdown",
      "metadata": {
        "id": "view-in-github",
        "colab_type": "text"
      },
      "source": [
        "<a href=\"https://colab.research.google.com/github/samgit1607/NTT_Python/blob/main/Day1_ML_journey.ipynb\" target=\"_parent\"><img src=\"https://colab.research.google.com/assets/colab-badge.svg\" alt=\"Open In Colab\"/></a>"
      ]
    },
    {
      "cell_type": "code",
      "execution_count": null,
      "metadata": {
        "colab": {
          "base_uri": "https://localhost:8080/"
        },
        "id": "HpmbKqI7jltH",
        "outputId": "56697b02-229e-4a66-e6c1-3c5be7ef0ac8"
      },
      "outputs": [
        {
          "output_type": "stream",
          "name": "stdout",
          "text": [
            "hello Samarth, wel come to python\n"
          ]
        }
      ],
      "source": [
        "print(\"hello Samarth, wel come to python\")"
      ]
    },
    {
      "cell_type": "code",
      "source": [
        "ashdkjas"
      ],
      "metadata": {
        "id": "34ZbDQBAxLWX"
      },
      "execution_count": null,
      "outputs": []
    },
    {
      "cell_type": "code",
      "source": [
        "class Student:\n",
        "  def __init__(self):\n",
        "    self.name=\"\"\n",
        "    self.age=0\n",
        "    self.m1=0\n",
        "    self.m2=0\n",
        "    self.m3=0\n",
        "    self.av=0\n",
        "\n",
        "  def get_data(self):\n",
        "    self.name=input(\"Enter name:\")\n",
        "    self.age=int(input(\"Enter age:\"))\n",
        "    self.m1=int(input(\"Enter marks 1:\"))\n",
        "    self.m2=int(input(\"Enter marks 2:\"))\n",
        "    self.m3=int(input(\"Enter marks 3:\"))\n",
        "\n",
        "  def avg(self):\n",
        "    self.av=float(self.m1+self.m2+self.m3)/3\n",
        "\n",
        "  def display(self):\n",
        "    print(\"Name:\",self.name)\n",
        "    print(\"Age:\",self.age)\n",
        "    print(\"Marks 1:\",self.m1)\n",
        "    print(\"Marks 2:\",self.m2)\n",
        "    print(\"Marks 3:\",self.m3)\n",
        "    print(\"Average:\",self.av)\n",
        "\n",
        "s1=Student()\n",
        "s1.get_data()\n",
        "s1.avg()\n",
        "s1.display()"
      ],
      "metadata": {
        "id": "P45ogUcCxpm3",
        "outputId": "8b43d833-4c96-4a4d-85f3-296cb67aed41",
        "colab": {
          "base_uri": "https://localhost:8080/"
        }
      },
      "execution_count": 5,
      "outputs": [
        {
          "output_type": "stream",
          "name": "stdout",
          "text": [
            "Enter name:Ram\n",
            "Enter age:30\n",
            "Enter marks 1:99\n",
            "Enter marks 2:98\n",
            "Enter marks 3:97\n",
            "Name: Ram\n",
            "Age: 30\n",
            "Marks 1: 99\n",
            "Marks 2: 98\n",
            "Marks 3: 97\n",
            "Average: 98.0\n"
          ]
        }
      ]
    }
  ]
}